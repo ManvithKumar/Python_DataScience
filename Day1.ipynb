{
 "cells": [
  {
   "cell_type": "code",
   "execution_count": null,
   "metadata": {
    "colab": {
     "base_uri": "https://localhost:8080/"
    },
    "id": "-skU4FevW5lP",
    "outputId": "1c9299c7-13d4-4d11-8abc-67a50bc96158"
   },
   "outputs": [
    {
     "name": "stdout",
     "output_type": "stream",
     "text": [
      "Python 3.7.15\n"
     ]
    }
   ],
   "source": [
    "!python --version"
   ]
  },
  {
   "cell_type": "code",
   "execution_count": null,
   "metadata": {
    "colab": {
     "background_save": true,
     "base_uri": "https://localhost:8080/"
    },
    "id": "ZWOAGUn5Z_W5",
    "outputId": "2e8b136f-2146-4692-c8bf-7a4ae627e384"
   },
   "outputs": [
    {
     "name": "stdout",
     "output_type": "stream",
     "text": [
      "Get:1 http://security.ubuntu.com/ubuntu bionic-security InRelease [88.7 kB]\n",
      "Get:2 https://cloud.r-project.org/bin/linux/ubuntu bionic-cran40/ InRelease [3,626 B]\n",
      "Ign:3 https://developer.download.nvidia.com/compute/machine-learning/repos/ubuntu1804/x86_64  InRelease\n",
      "Get:4 https://developer.download.nvidia.com/compute/cuda/repos/ubuntu1804/x86_64  InRelease [1,581 B]\n",
      "Hit:5 https://developer.download.nvidia.com/compute/machine-learning/repos/ubuntu1804/x86_64  Release\n",
      "Hit:6 http://archive.ubuntu.com/ubuntu bionic InRelease\n",
      "Hit:7 http://ppa.launchpad.net/c2d4u.team/c2d4u4.0+/ubuntu bionic InRelease\n",
      "Get:8 http://archive.ubuntu.com/ubuntu bionic-updates InRelease [88.7 kB]\n",
      "Get:9 https://developer.download.nvidia.com/compute/cuda/repos/ubuntu1804/x86_64  Packages [1,038 kB]\n",
      "Hit:11 http://ppa.launchpad.net/cran/libgit2/ubuntu bionic InRelease\n",
      "Get:12 http://security.ubuntu.com/ubuntu bionic-security/main amd64 Packages [3,071 kB]\n",
      "Hit:13 http://ppa.launchpad.net/deadsnakes/ppa/ubuntu bionic InRelease\n",
      "Get:14 http://archive.ubuntu.com/ubuntu bionic-backports InRelease [83.3 kB]\n",
      "Hit:15 http://ppa.launchpad.net/graphics-drivers/ppa/ubuntu bionic InRelease\n",
      "Get:16 http://security.ubuntu.com/ubuntu bionic-security/universe amd64 Packages [1,563 kB]\n",
      "Get:17 http://security.ubuntu.com/ubuntu bionic-security/restricted amd64 Packages [1,262 kB]\n",
      "Get:18 http://archive.ubuntu.com/ubuntu bionic-updates/restricted amd64 Packages [1,303 kB]\n",
      "Get:19 http://archive.ubuntu.com/ubuntu bionic-updates/main amd64 Packages [3,497 kB]\n",
      "Get:20 http://archive.ubuntu.com/ubuntu bionic-updates/universe amd64 Packages [2,338 kB]\n",
      "Fetched 14.3 MB in 3s (5,226 kB/s)\n",
      "Reading package lists... Done\n",
      "Reading package lists... Done\n",
      "Building dependency tree       \n",
      "Reading state information... Done\n",
      "The following package was automatically installed and is no longer required:\n",
      "  libnvidia-common-460\n",
      "Use 'sudo apt autoremove' to remove it.\n",
      "The following additional packages will be installed:\n",
      "  libpython3.9-minimal libpython3.9-stdlib python3.9-minimal\n",
      "Suggested packages:\n",
      "  python3.9-venv binfmt-support\n",
      "The following NEW packages will be installed:\n",
      "  libpython3.9-minimal libpython3.9-stdlib python3.9 python3.9-minimal\n",
      "0 upgraded, 4 newly installed, 0 to remove and 15 not upgraded.\n",
      "Need to get 4,917 kB of archives.\n",
      "After this operation, 19.1 MB of additional disk space will be used.\n",
      "Get:1 http://ppa.launchpad.net/deadsnakes/ppa/ubuntu bionic/main amd64 libpython3.9-minimal amd64 3.9.15-1+bionic1 [805 kB]\n",
      "Get:2 http://ppa.launchpad.net/deadsnakes/ppa/ubuntu bionic/main amd64 python3.9-minimal amd64 3.9.15-1+bionic1 [1,938 kB]\n",
      "Get:3 http://ppa.launchpad.net/deadsnakes/ppa/ubuntu bionic/main amd64 libpython3.9-stdlib amd64 3.9.15-1+bionic1 [1,680 kB]\n",
      "Get:4 http://ppa.launchpad.net/deadsnakes/ppa/ubuntu bionic/main amd64 python3.9 amd64 3.9.15-1+bionic1 [494 kB]\n",
      "Fetched 4,917 kB in 3s (1,449 kB/s)\n",
      "debconf: unable to initialize frontend: Dialog\n",
      "debconf: (No usable dialog-like program is installed, so the dialog based frontend cannot be used. at /usr/share/perl5/Debconf/FrontEnd/Dialog.pm line 76, <> line 4.)\n",
      "debconf: falling back to frontend: Readline\n",
      "debconf: unable to initialize frontend: Readline\n",
      "debconf: (This frontend requires a controlling tty.)\n",
      "debconf: falling back to frontend: Teletype\n",
      "dpkg-preconfigure: unable to re-open stdin: \n",
      "Selecting previously unselected package libpython3.9-minimal:amd64.\n",
      "(Reading database ... 123991 files and directories currently installed.)\n",
      "Preparing to unpack .../libpython3.9-minimal_3.9.15-1+bionic1_amd64.deb ...\n",
      "Unpacking libpython3.9-minimal:amd64 (3.9.15-1+bionic1) ...\n",
      "Selecting previously unselected package python3.9-minimal.\n",
      "Preparing to unpack .../python3.9-minimal_3.9.15-1+bionic1_amd64.deb ...\n",
      "Unpacking python3.9-minimal (3.9.15-1+bionic1) ...\n",
      "Selecting previously unselected package libpython3.9-stdlib:amd64.\n",
      "Preparing to unpack .../libpython3.9-stdlib_3.9.15-1+bionic1_amd64.deb ...\n",
      "Unpacking libpython3.9-stdlib:amd64 (3.9.15-1+bionic1) ...\n",
      "Selecting previously unselected package python3.9.\n",
      "Preparing to unpack .../python3.9_3.9.15-1+bionic1_amd64.deb ...\n",
      "Unpacking python3.9 (3.9.15-1+bionic1) ...\n",
      "Setting up libpython3.9-minimal:amd64 (3.9.15-1+bionic1) ...\n",
      "Setting up libpython3.9-stdlib:amd64 (3.9.15-1+bionic1) ...\n",
      "Setting up python3.9-minimal (3.9.15-1+bionic1) ...\n",
      "Setting up python3.9 (3.9.15-1+bionic1) ...\n",
      "Processing triggers for mime-support (3.60ubuntu1) ...\n",
      "Processing triggers for man-db (2.8.3-2ubuntu0.1) ...\n"
     ]
    }
   ],
   "source": [
    "!sudo apt-get  update -y\n",
    "!sudo apt-get install python3.9"
   ]
  },
  {
   "cell_type": "code",
   "execution_count": null,
   "metadata": {
    "colab": {
     "background_save": true,
     "base_uri": "https://localhost:8080/"
    },
    "id": "OCG8liXlaxuC",
    "outputId": "054364f7-306f-4b8e-8929-4114c276c8fd"
   },
   "outputs": [
    {
     "name": "stdout",
     "output_type": "stream",
     "text": [
      "Python 3.7.15\n"
     ]
    }
   ],
   "source": [
    "!python --version"
   ]
  },
  {
   "cell_type": "code",
   "execution_count": null,
   "metadata": {
    "colab": {
     "background_save": true,
     "base_uri": "https://localhost:8080/"
    },
    "id": "xNjJ0mEqa-vJ",
    "outputId": "e42660f7-c3f2-475d-e551-dc684dac03ce"
   },
   "outputs": [
    {
     "name": "stdout",
     "output_type": "stream",
     "text": [
      "Hello Gatty\n"
     ]
    }
   ],
   "source": [
    "print('Hello Gatty')"
   ]
  },
  {
   "cell_type": "code",
   "execution_count": null,
   "metadata": {
    "colab": {
     "background_save": true,
     "base_uri": "https://localhost:8080/"
    },
    "id": "oNd6Bssbb9SN",
    "outputId": "de3e292e-cb9d-49f0-a96a-abc5bb2d5a59"
   },
   "outputs": [
    {
     "name": "stdout",
     "output_type": "stream",
     "text": [
      "Hello\n"
     ]
    }
   ],
   "source": [
    "if 'a'=='a':\n",
    "  print('Hello')\n",
    "else:\n",
    "  print('Bye')"
   ]
  },
  {
   "cell_type": "code",
   "execution_count": null,
   "metadata": {
    "colab": {
     "background_save": true,
     "base_uri": "https://localhost:8080/",
     "height": 53
    },
    "id": "Pv7G2h9GcSGl",
    "outputId": "2f3fbf84-a154-48d2-b8db-9af601592434"
   },
   "outputs": [
    {
     "name": "stdout",
     "output_type": "stream",
     "text": [
      "gatty\n"
     ]
    },
    {
     "data": {
      "application/vnd.google.colaboratory.intrinsic+json": {
       "type": "string"
      },
      "text/plain": [
       "'\\nThis is commet\\n'"
      ]
     },
     "execution_count": 6,
     "metadata": {},
     "output_type": "execute_result"
    }
   ],
   "source": [
    "print(\"gatty\")\n",
    "\"\"\"\n",
    "This is commet\n",
    "\"\"\""
   ]
  },
  {
   "cell_type": "code",
   "execution_count": null,
   "metadata": {
    "colab": {
     "background_save": true,
     "base_uri": "https://localhost:8080/"
    },
    "id": "XigPA_vrdNuw",
    "outputId": "cd176449-d26b-4c4e-82cd-08a002c3acac"
   },
   "outputs": [
    {
     "name": "stdout",
     "output_type": "stream",
     "text": [
      "20 Srinivas\n"
     ]
    }
   ],
   "source": [
    "a = 20\n",
    "name = \"Srinivas\"\n",
    "print(a,name)"
   ]
  },
  {
   "cell_type": "code",
   "execution_count": null,
   "metadata": {
    "colab": {
     "background_save": true,
     "base_uri": "https://localhost:8080/"
    },
    "id": "YAwVFHIjdmTX",
    "outputId": "6e63975c-3bc3-4c15-ee5d-b78bfc890bb4"
   },
   "outputs": [
    {
     "name": "stdout",
     "output_type": "stream",
     "text": [
      "Hit:1 https://cloud.r-project.org/bin/linux/ubuntu bionic-cran40/ InRelease\n",
      "Ign:2 https://developer.download.nvidia.com/compute/machine-learning/repos/ubuntu1804/x86_64  InRelease\n",
      "Hit:3 https://developer.download.nvidia.com/compute/cuda/repos/ubuntu1804/x86_64  InRelease\n",
      "Hit:4 https://developer.download.nvidia.com/compute/machine-learning/repos/ubuntu1804/x86_64  Release\n",
      "Hit:5 http://security.ubuntu.com/ubuntu bionic-security InRelease\n",
      "Hit:6 http://archive.ubuntu.com/ubuntu bionic InRelease\n",
      "Hit:7 http://ppa.launchpad.net/c2d4u.team/c2d4u4.0+/ubuntu bionic InRelease\n",
      "Hit:8 http://archive.ubuntu.com/ubuntu bionic-updates InRelease\n",
      "Hit:9 http://archive.ubuntu.com/ubuntu bionic-backports InRelease\n",
      "Hit:10 http://ppa.launchpad.net/cran/libgit2/ubuntu bionic InRelease\n",
      "Hit:12 http://ppa.launchpad.net/deadsnakes/ppa/ubuntu bionic InRelease\n",
      "Hit:13 http://ppa.launchpad.net/graphics-drivers/ppa/ubuntu bionic InRelease\n",
      "Reading package lists... Done\n",
      "Reading package lists... Done\n",
      "Building dependency tree       \n",
      "Reading state information... Done\n",
      "python3.9 is already the newest version (3.9.15-1+bionic1).\n",
      "The following package was automatically installed and is no longer required:\n",
      "  libnvidia-common-460\n",
      "Use 'sudo apt autoremove' to remove it.\n",
      "0 upgraded, 0 newly installed, 0 to remove and 15 not upgraded.\n"
     ]
    }
   ],
   "source": [
    "!sudo apt-get  update -y\n",
    "!sudo apt-get install python3.9"
   ]
  },
  {
   "cell_type": "code",
   "execution_count": null,
   "metadata": {
    "colab": {
     "background_save": true,
     "base_uri": "https://localhost:8080/"
    },
    "id": "b2K0JZTTehwa",
    "outputId": "fc43e3d7-4f26-4279-da42-2f281ec31b40"
   },
   "outputs": [
    {
     "name": "stdout",
     "output_type": "stream",
     "text": [
      "Python 3.7.15\n"
     ]
    }
   ],
   "source": [
    "!python --version"
   ]
  },
  {
   "cell_type": "code",
   "execution_count": null,
   "metadata": {
    "colab": {
     "background_save": true,
     "base_uri": "https://localhost:8080/"
    },
    "id": "nXwgaW1UfMKo",
    "outputId": "2dc26925-eafc-43c7-ff56-1caaacdb6f1a"
   },
   "outputs": [
    {
     "data": {
      "text/plain": [
       "int"
      ]
     },
     "execution_count": 10,
     "metadata": {},
     "output_type": "execute_result"
    }
   ],
   "source": [
    "type(a)"
   ]
  },
  {
   "cell_type": "code",
   "execution_count": null,
   "metadata": {
    "colab": {
     "background_save": true
    },
    "id": "Vnrl-dZ-fa1G"
   },
   "outputs": [],
   "source": [
    "var = int(\"98\")"
   ]
  },
  {
   "cell_type": "code",
   "execution_count": null,
   "metadata": {
    "colab": {
     "background_save": true,
     "base_uri": "https://localhost:8080/"
    },
    "id": "zCu2FWtgfst9",
    "outputId": "8aa6581c-b347-4b24-cbee-dbc5212bb4a9"
   },
   "outputs": [
    {
     "data": {
      "text/plain": [
       "98"
      ]
     },
     "execution_count": 12,
     "metadata": {},
     "output_type": "execute_result"
    }
   ],
   "source": [
    "var"
   ]
  },
  {
   "cell_type": "code",
   "execution_count": null,
   "metadata": {
    "colab": {
     "background_save": true
    },
    "id": "WggJ7uPMftxT"
   },
   "outputs": [],
   "source": [
    "var = str(var)"
   ]
  },
  {
   "cell_type": "code",
   "execution_count": null,
   "metadata": {
    "colab": {
     "background_save": true,
     "base_uri": "https://localhost:8080/",
     "height": 35
    },
    "id": "5Haar5CPgZO_",
    "outputId": "6c2a83a6-3f44-4371-acd5-37f79af2b501"
   },
   "outputs": [
    {
     "data": {
      "application/vnd.google.colaboratory.intrinsic+json": {
       "type": "string"
      },
      "text/plain": [
       "'98'"
      ]
     },
     "execution_count": 14,
     "metadata": {},
     "output_type": "execute_result"
    }
   ],
   "source": [
    "var"
   ]
  },
  {
   "cell_type": "code",
   "execution_count": null,
   "metadata": {
    "colab": {
     "background_save": true,
     "base_uri": "https://localhost:8080/"
    },
    "id": "q4IPl43-gaJb",
    "outputId": "8cfe29d2-326a-4e9d-c356-b8230145b178"
   },
   "outputs": [
    {
     "name": "stdout",
     "output_type": "stream",
     "text": [
      "10 19.0 india\n"
     ]
    }
   ],
   "source": [
    "a,b,c = 10,19.0,\"india\"\n",
    "print(a,b,c)"
   ]
  },
  {
   "cell_type": "code",
   "execution_count": null,
   "metadata": {
    "colab": {
     "background_save": true,
     "base_uri": "https://localhost:8080/"
    },
    "id": "0kb0tG2Mg_QA",
    "outputId": "210d6050-7ae6-414f-b480-7132dff40a67"
   },
   "outputs": [
    {
     "name": "stdout",
     "output_type": "stream",
     "text": [
      "10 10.5 (-6.73e+21+0j)\n"
     ]
    }
   ],
   "source": [
    "x = int(10)\n",
    "y = float(10.5)\n",
    "z = complex(-67.3e20)\n",
    "print(x,y,z)"
   ]
  },
  {
   "cell_type": "code",
   "execution_count": null,
   "metadata": {
    "colab": {
     "background_save": true,
     "base_uri": "https://localhost:8080/"
    },
    "id": "YEpvmwA3ijH3",
    "outputId": "77340251-b76c-4b4a-cb2d-983fc7b00d79"
   },
   "outputs": [
    {
     "name": "stdout",
     "output_type": "stream",
     "text": [
      "Manvith Gatty\n",
      "20\n",
      "5.6\n"
     ]
    }
   ],
   "source": [
    "f_name,l_name = \"Manvith\",\"Gatty\"\n",
    "print(f_name,l_name)\n",
    "\n",
    "age = int('20')\n",
    "print(age)\n",
    "\n",
    "height = float('5.6')\n",
    "print(height)"
   ]
  },
  {
   "cell_type": "code",
   "execution_count": null,
   "metadata": {
    "colab": {
     "background_save": true,
     "base_uri": "https://localhost:8080/"
    },
    "id": "34cNl1kxjRn_",
    "outputId": "47859f52-90e4-4c9c-9d5b-c17e917ce7c9"
   },
   "outputs": [
    {
     "name": "stdout",
     "output_type": "stream",
     "text": [
      "False\n"
     ]
    }
   ],
   "source": [
    "print(5<2)"
   ]
  },
  {
   "cell_type": "code",
   "execution_count": null,
   "metadata": {
    "colab": {
     "background_save": true,
     "base_uri": "https://localhost:8080/"
    },
    "id": "xfy7rvmRkd_j",
    "outputId": "5de15a23-ff82-498f-ff3c-17bfc02f5c44"
   },
   "outputs": [
    {
     "name": "stdout",
     "output_type": "stream",
     "text": [
      "List [1, 2, 3, 4, 5]\n",
      "Append [1, 2, 3, 4, 5, 100]\n",
      "Insertion: [1, 2, 300, 3, 4, 5, 100]\n",
      "Removed: [1, 300, 3, 4, 5, 100]\n",
      "Appending: [1, 300, 3, 4, 5, 100, 'Hello']\n",
      "Pop: [1, 300, 3, 4, 5, 100]\n",
      "Pop: [1, 300, 4, 5, 100]\n",
      "Sorted: [1, 4, 5, 100, 300]\n",
      "Rversed: [300, 100, 5, 4, 1]\n",
      "Copied List: [300, 100, 5, 4, 1]\n"
     ]
    }
   ],
   "source": [
    "a = [1,2,3,4,5]\n",
    "print(\"List\",a)\n",
    "\n",
    "a.append(100)# append\n",
    "print(\"Append\",a)\n",
    "\n",
    "a.insert(2,300) #insertion\n",
    "print(\"Insertion:\",a)\n",
    "\n",
    "a.remove(2) #  removing \n",
    "print(\"Removed:\",a)\n",
    "\n",
    "a.append(\"Hello\")# append\n",
    "print(\"Appending:\",a)\n",
    "\n",
    "a.pop() #pop \n",
    "print(\"Pop:\",a)\n",
    "\n",
    "a.pop(2)#removing element using index value\n",
    "print(\"Pop:\",a)\n",
    "\n",
    "\n",
    "a.sort()#sort element in ascending \n",
    "print(\"Sorted:\",a)\n",
    "\n",
    "a.reverse()\n",
    "print(\"Rversed:\",a)\n",
    "\n",
    "b = a.copy()\n",
    "print(\"Copied List:\",b)\n"
   ]
  },
  {
   "cell_type": "code",
   "execution_count": null,
   "metadata": {
    "colab": {
     "background_save": true,
     "base_uri": "https://localhost:8080/"
    },
    "id": "HcGdXdCHktik",
    "outputId": "6832fc96-3d2c-4019-992a-0edb9c6d810f"
   },
   "outputs": [
    {
     "name": "stdout",
     "output_type": "stream",
     "text": [
      "('apple', 'orange', 'kiwi')\n",
      "1\n",
      "0\n",
      "('apple', 'orange', 'kiwi', 'red', 'green', 'blue')\n",
      "('apple', 'orange', 'kiwi', 'apple', 'orange', 'kiwi', 'apple', 'orange', 'kiwi')\n",
      "('apple', 'orange', 'kiwi', 'berry')\n",
      "('apple', 'orange', 'pine apple', 'berry')\n"
     ]
    }
   ],
   "source": [
    "#tuples:\n",
    "mytuple =('apple','orange','kiwi')\n",
    "mytuple1 =('red','green','blue')\n",
    "print(mytuple)\n",
    "\n",
    "print(mytuple.count('apple'))\n",
    "print(mytuple.index('apple'))\n",
    "\n",
    "print(mytuple+mytuple1)\n",
    "print(mytuple*3)# replication of tuples\n",
    "\n",
    "#Adding items by converting tuple into list\n",
    "mytuple = list(mytuple)\n",
    "mytuple.append(\"berry\")\n",
    "mytuple = tuple(mytuple)\n",
    "print(mytuple)\n",
    "\n",
    "#updating items by converting tuple into list\n",
    "mytuple = list(mytuple)\n",
    "mytuple[2] = 'pine apple'\n",
    "mytuple = tuple(mytuple)\n",
    "print(mytuple)\n"
   ]
  },
  {
   "cell_type": "code",
   "execution_count": null,
   "metadata": {
    "colab": {
     "background_save": true,
     "base_uri": "https://localhost:8080/"
    },
    "id": "mEBb4oAFqhCQ",
    "outputId": "a67a5762-9544-4edb-c43e-48802ebf1c26"
   },
   "outputs": [
    {
     "name": "stdout",
     "output_type": "stream",
     "text": [
      "{'india': 'Delhi', 'Bangladesh ': 'Dhaka', 'Nepal': 'Katmandu'}\n",
      "Delhi\n",
      "{'india': 'Delhi', 'Bangladesh ': 'Dhaka', 'Nepal': 'Katmandu', 'japan': 'tokyo'}\n",
      "{'india': 'Delhi', 'Bangladesh ': 'Dhaka', 'Nepal': 'Katmandu', 'japan': 'Tokyo'}\n",
      "<class 'dict'>\n",
      "('Afghanistan', 'Kabul')\n",
      "{}\n"
     ]
    }
   ],
   "source": [
    "#dictionaries:\n",
    "\n",
    "mydict = {\n",
    "    \"india\":\"Delhi\",\n",
    "    \"Bangladesh \":\"Dhaka\",\n",
    "    \"Nepal\":\"Katmandu\"\n",
    "}\n",
    "print(mydict)\n",
    "\n",
    "name = mydict.get('india')\n",
    "print(name)\n",
    "\n",
    "mydict['japan']='tokyo'\n",
    "print(mydict)\n",
    "\n",
    "mydict.update({'japan':'Tokyo'})\n",
    "print(mydict)\n",
    "\n",
    "mydict['Afghanistan']='Kabul'\n",
    "\n",
    "print(type(mydict))\n",
    "\n",
    "print(mydict.popitem())\n",
    "\n",
    "mydict.clear()\n",
    "print(mydict)\n",
    "\n"
   ]
  },
  {
   "cell_type": "code",
   "execution_count": null,
   "metadata": {
    "colab": {
     "background_save": true,
     "base_uri": "https://localhost:8080/"
    },
    "id": "Hxyf-VSD4jtY",
    "outputId": "af8cbfe7-cd3b-4204-98ce-d9c186c6ae2c"
   },
   "outputs": [
    {
     "name": "stdout",
     "output_type": "stream",
     "text": [
      "M\n",
      "N\n",
      "I\n",
      "S\n"
     ]
    }
   ],
   "source": [
    "str =\"My Name Is Shreyas\"\n",
    "str = str.split(\" \")\n",
    "for i in str:\n",
    "  print(i[0])"
   ]
  },
  {
   "cell_type": "code",
   "execution_count": null,
   "metadata": {
    "colab": {
     "background_save": true,
     "base_uri": "https://localhost:8080/"
    },
    "id": "RVoiQaiq89Ts",
    "outputId": "92e53d75-8843-4c7c-b151-e7ae3c1f8bcf"
   },
   "outputs": [
    {
     "name": "stdout",
     "output_type": "stream",
     "text": [
      "{'Croc', 'Tiger', 'Lion'} <class 'set'>\n",
      "Croc\n",
      "Tiger\n",
      "Lion\n",
      "{'Croc', 'Tiger', 'wolf', 'Lion'}\n",
      "{'Tiger', 'wolf', 'Lion'}\n",
      "{'wolf', 'Lion'}\n",
      "{'Lion'}\n",
      "{'wolf', 'Lion'}\n"
     ]
    }
   ],
   "source": [
    "#sets:\n",
    "myset = {\"Tiger\",\"Lion\",\"Croc\"}\n",
    "print(myset,type(myset))\n",
    "\n",
    "for i in myset:\n",
    "  print(i)\n",
    "\n",
    "myset.add(\"wolf\")\n",
    "print(myset)\n",
    "\n",
    "myset.remove('Croc')\n",
    "print(myset)\n",
    "\n",
    "myset.discard('Tiger')\n",
    "print(myset)\n",
    "\n",
    "myset.pop()\n",
    "print(myset)\n",
    "\n",
    "myset.add(\"wolf\")\n",
    "print(myset)"
   ]
  },
  {
   "cell_type": "code",
   "execution_count": null,
   "metadata": {
    "colab": {
     "background_save": true,
     "base_uri": "https://localhost:8080/"
    },
    "id": "M8iluFfr9_Zg",
    "outputId": "4dff9549-4a6c-4900-a69b-b626c49a7641"
   },
   "outputs": [
    {
     "name": "stdout",
     "output_type": "stream",
     "text": [
      "{'Python', 'Anaconda', 'Croc', 'Tiger', 'Lion'}\n",
      "{'Croc'}\n"
     ]
    }
   ],
   "source": [
    "#union\n",
    "myset1 = {\"Python\",\"Anaconda\",\"Croc\"}\n",
    "myset = {\"Tiger\",\"Lion\",\"Croc\"}\n",
    "print(myset.union(myset1))\n",
    "\n",
    "\n",
    "#intersection\n",
    "myset1 = {\"Python\",\"Anaconda\",\"Croc\"}\n",
    "myset = {\"Tiger\",\"Lion\",\"Croc\"}\n",
    "print(myset.intersection(myset1))"
   ]
  },
  {
   "cell_type": "code",
   "execution_count": null,
   "metadata": {
    "colab": {
     "background_save": true,
     "base_uri": "https://localhost:8080/"
    },
    "id": "xyxG_WEQBs6j",
    "outputId": "d3417e22-b4b0-4b5a-cf16-1e78b2150021"
   },
   "outputs": [
    {
     "name": "stdout",
     "output_type": "stream",
     "text": [
      "3\n"
     ]
    }
   ],
   "source": [
    "count = 0\n",
    "for i in myset1:\n",
    "  count+=1\n",
    "print(count)\n",
    "  "
   ]
  },
  {
   "cell_type": "code",
   "execution_count": null,
   "metadata": {
    "colab": {
     "background_save": true,
     "base_uri": "https://localhost:8080/"
    },
    "id": "dHT4-1KLDX19",
    "outputId": "6c9b341d-887b-4e4b-ad6f-a7510b6503f1"
   },
   "outputs": [
    {
     "name": "stdout",
     "output_type": "stream",
     "text": [
      "I Am God\n"
     ]
    }
   ],
   "source": [
    "#If Else Elif\n",
    "num = 20\n",
    "if num > 0:\n",
    "  print('I Am God')\n",
    "else:\n",
    "  print('I Am Dog')\n"
   ]
  },
  {
   "cell_type": "code",
   "execution_count": null,
   "metadata": {
    "colab": {
     "background_save": true,
     "base_uri": "https://localhost:8080/"
    },
    "id": "tUqrD5SPGPVU",
    "outputId": "6de9cdb0-1c00-464c-c6aa-395b9a6b043f"
   },
   "outputs": [
    {
     "name": "stdout",
     "output_type": "stream",
     "text": [
      "10\n",
      "9\n",
      "8\n",
      "7\n",
      "6\n",
      "5\n",
      "4\n",
      "3\n",
      "2\n",
      "1\n"
     ]
    }
   ],
   "source": [
    "n =10\n",
    "while n> 0:\n",
    "  print(n)\n",
    "  n=n-1"
   ]
  },
  {
   "cell_type": "code",
   "execution_count": null,
   "metadata": {
    "colab": {
     "background_save": true,
     "base_uri": "https://localhost:8080/"
    },
    "id": "7A7fQOhoIKg_",
    "outputId": "bb88dd2d-944a-4bb5-a579-e3cd9dcb83a5"
   },
   "outputs": [
    {
     "name": "stdout",
     "output_type": "stream",
     "text": [
      "0\n"
     ]
    }
   ],
   "source": [
    "num = int(input(\"entter the number\"))\n",
    "for i in range(0,num,2):\n",
    "  print(i)"
   ]
  },
  {
   "cell_type": "code",
   "execution_count": null,
   "metadata": {
    "colab": {
     "base_uri": "https://localhost:8080/"
    },
    "id": "N2wL_7JGX_3w",
    "outputId": "3cae2734-ac09-49c7-aef6-6701b9c5264a"
   },
   "outputs": [
    {
     "name": "stdout",
     "output_type": "stream",
     "text": [
      "0\n",
      "5\n",
      "10\n",
      "15\n"
     ]
    }
   ],
   "source": [
    "num = int(input(\"entter the number\"))\n",
    "for i in range(num):\n",
    "  if i%5==0:\n",
    "    print(i)\n"
   ]
  },
  {
   "cell_type": "code",
   "execution_count": null,
   "metadata": {
    "colab": {
     "base_uri": "https://localhost:8080/"
    },
    "id": "63VC3XK7YKd1",
    "outputId": "92d83dd1-91ec-4e15-a9cd-b00edb52c19a"
   },
   "outputs": [
    {
     "name": "stdout",
     "output_type": "stream",
     "text": [
      "entter the number20\n",
      "0\n",
      "2\n",
      "4\n",
      "6\n",
      "8\n",
      "10\n",
      "12\n",
      "14\n",
      "16\n",
      "18\n"
     ]
    }
   ],
   "source": [
    "num = int(input(\"entter the number\"))\n",
    "for i in range(num):\n",
    "  if i%2==0 :\n",
    "    print(i)"
   ]
  },
  {
   "cell_type": "code",
   "execution_count": null,
   "metadata": {
    "colab": {
     "base_uri": "https://localhost:8080/"
    },
    "id": "DIofGb2lYkj_",
    "outputId": "a8161515-d40c-4c77-89fc-aea2a0f60b94"
   },
   "outputs": [
    {
     "name": "stdout",
     "output_type": "stream",
     "text": [
      "Enter the number20\n",
      "3\n",
      "5\n",
      "7\n",
      "9\n",
      "11\n",
      "13\n",
      "15\n",
      "17\n",
      "19\n"
     ]
    }
   ],
   "source": [
    "num = int(input('Enter the number'))\n",
    "a =[]\n",
    "for number in range (2, num):    \n",
    "      for i in range (2, number):  \n",
    "        if (number % i) == 0 and i!=number:  \n",
    "            break \n",
    "        else:  \n",
    "            if number not in a:\n",
    "              a.append(number)\n",
    "for i in a:\n",
    "  print(i) "
   ]
  },
  {
   "cell_type": "code",
   "execution_count": null,
   "metadata": {
    "colab": {
     "base_uri": "https://localhost:8080/"
    },
    "id": "IRBiYBF1Y62z",
    "outputId": "87aae978-1344-4d56-9377-078162d3dc07"
   },
   "outputs": [
    {
     "name": "stdout",
     "output_type": "stream",
     "text": [
      "Enter the number20\n",
      "[2, 3, 5, 7, 11, 13, 17, 19]\n"
     ]
    }
   ],
   "source": [
    "def prime(x, y):\n",
    "    prime_list = []\n",
    "    for i in range(x, y):\n",
    "        if i == 0 or i == 1:\n",
    "            continue\n",
    "        else:\n",
    "            for j in range(2, int(i/2)+1):\n",
    "                if i % j == 0:\n",
    "                    break\n",
    "            else:d\n",
    "                prime_list.append(i)\n",
    "    return prime_list\n",
    "\n",
    "ending_range = int(input(\"Enter the number\"))\n",
    "lst = prime(0, ending_range)\n",
    "if len(lst) == 0:\n",
    "    print(\"There are no prime numbers in this range\")\n",
    "else:\n",
    "    print(lst)"
   ]
  },
  {
   "cell_type": "code",
   "execution_count": null,
   "metadata": {
    "colab": {
     "base_uri": "https://localhost:8080/"
    },
    "id": "C22M1DwYesHT",
    "outputId": "72cd4737-1538-4162-9fd6-da58b30ac2fa"
   },
   "outputs": [
    {
     "name": "stdout",
     "output_type": "stream",
     "text": [
      "[5, 7, 11]\n"
     ]
    }
   ],
   "source": [
    "a = [2, 3, 5, 7, 11, 13, 17, 19]\n",
    "print(a[2:5])"
   ]
  },
  {
   "cell_type": "code",
   "execution_count": null,
   "metadata": {
    "colab": {
     "base_uri": "https://localhost:8080/"
    },
    "id": "Dt-uWMWzlCjs",
    "outputId": "755b9e9c-f717-4ed5-b57f-a184436f4e59"
   },
   "outputs": [
    {
     "name": "stdout",
     "output_type": "stream",
     "text": [
      "[2, 3, 5, 7, 11]\n",
      "[11, 13, 17, 19]\n"
     ]
    }
   ],
   "source": [
    "a = [2, 3, 5, 7, 11, 13, 17, 19]\n",
    "print(a[:5])\n",
    "print(a[4:])"
   ]
  },
  {
   "cell_type": "code",
   "execution_count": null,
   "metadata": {
    "colab": {
     "base_uri": "https://localhost:8080/"
    },
    "id": "Pkgkdm8slRDR",
    "outputId": "a2681a4d-4d56-4020-8de7-be0f800549e2"
   },
   "outputs": [
    {
     "name": "stdout",
     "output_type": "stream",
     "text": [
      "46\n"
     ]
    }
   ],
   "source": [
    "def multiply(x,y):\n",
    "  return x*y\n",
    "\n",
    "print(multiply(2,23))"
   ]
  },
  {
   "cell_type": "code",
   "execution_count": null,
   "metadata": {
    "colab": {
     "base_uri": "https://localhost:8080/"
    },
    "id": "ejPODV67mzbM",
    "outputId": "c94847a5-6f5a-48bd-bdc6-e4c71de6e7b6"
   },
   "outputs": [
    {
     "name": "stdout",
     "output_type": "stream",
     "text": [
      "John\n",
      "36\n"
     ]
    }
   ],
   "source": [
    "#class and objects\n",
    "\n",
    "class Person:\n",
    "  def __init__(self, name, age):\n",
    "    self.name = name\n",
    "    self.age = age\n",
    "\n",
    "p1 = Person(\"John\", 36)\n",
    "\n",
    "print(p1.name)\n",
    "print(p1.age)"
   ]
  },
  {
   "cell_type": "code",
   "execution_count": null,
   "metadata": {
    "id": "To_N6wIqoyRx"
   },
   "outputs": [],
   "source": [
    "# Machine lEARNING\n",
    "#supervised ML--->Regression,Classification\n",
    "#unsupervised ML--->Clustering,Association\n",
    "#reinforcement ML"
   ]
  },
  {
   "cell_type": "code",
   "execution_count": null,
   "metadata": {
    "colab": {
     "base_uri": "https://localhost:8080/"
    },
    "id": "n-HDOqPU2C_s",
    "outputId": "f930eb65-0cb7-4c28-a213-005dbd90d736"
   },
   "outputs": [
    {
     "name": "stdout",
     "output_type": "stream",
     "text": [
      "Get:1 http://security.ubuntu.com/ubuntu bionic-security InRelease [88.7 kB]\n",
      "Hit:2 https://cloud.r-project.org/bin/linux/ubuntu bionic-cran40/ InRelease\n",
      "Hit:3 http://archive.ubuntu.com/ubuntu bionic InRelease\n",
      "Ign:4 https://developer.download.nvidia.com/compute/machine-learning/repos/ubuntu1804/x86_64  InRelease\n",
      "Get:5 http://archive.ubuntu.com/ubuntu bionic-updates InRelease [88.7 kB]\n",
      "Hit:6 https://developer.download.nvidia.com/compute/cuda/repos/ubuntu1804/x86_64  InRelease\n",
      "Hit:7 https://developer.download.nvidia.com/compute/machine-learning/repos/ubuntu1804/x86_64  Release\n",
      "Hit:8 http://ppa.launchpad.net/c2d4u.team/c2d4u4.0+/ubuntu bionic InRelease\n",
      "Get:9 http://archive.ubuntu.com/ubuntu bionic-backports InRelease [83.3 kB]\n",
      "Hit:10 http://ppa.launchpad.net/cran/libgit2/ubuntu bionic InRelease\n",
      "Hit:11 http://ppa.launchpad.net/deadsnakes/ppa/ubuntu bionic InRelease\n",
      "Hit:13 http://ppa.launchpad.net/graphics-drivers/ppa/ubuntu bionic InRelease\n",
      "Get:14 http://archive.ubuntu.com/ubuntu bionic-updates/main amd64 Packages [3,497 kB]\n",
      "Fetched 3,757 kB in 2s (2,225 kB/s)\n",
      "Reading package lists... Done\n",
      "Reading package lists... Done\n",
      "Building dependency tree       \n",
      "Reading state information... Done\n",
      "python3.9 is already the newest version (3.9.15-1+bionic1).\n",
      "The following package was automatically installed and is no longer required:\n",
      "  libnvidia-common-460\n",
      "Use 'sudo apt autoremove' to remove it.\n",
      "0 upgraded, 0 newly installed, 0 to remove and 13 not upgraded.\n",
      "update-alternatives: using /usr/bin/python3.9 to provide /usr/bin/python3 (python3) in auto mode\n"
     ]
    }
   ],
   "source": [
    "#install python 3.9\n",
    "!sudo apt-get update -y\n",
    "!sudo apt-get install python3.9\n",
    "\n",
    "#change alternatives\n",
    "!sudo update-alternatives --install /usr/bin/python3 python3 /usr/bin/python3.7 1\n",
    "!sudo update-alternatives --install /usr/bin/python3 python3 /usr/bin/python3.9 2\n"
   ]
  },
  {
   "cell_type": "code",
   "execution_count": null,
   "metadata": {
    "colab": {
     "base_uri": "https://localhost:8080/"
    },
    "id": "VjCBgO892EGT",
    "outputId": "a5987bd8-9f52-4d47-8716-14438cdf8ada"
   },
   "outputs": [
    {
     "name": "stdout",
     "output_type": "stream",
     "text": [
      "Python 3.9.15\n"
     ]
    }
   ],
   "source": [
    "!python --version"
   ]
  },
  {
   "cell_type": "code",
   "execution_count": null,
   "metadata": {
    "id": "c_vf_p-I2H34"
   },
   "outputs": [],
   "source": []
  }
 ],
 "metadata": {
  "colab": {
   "provenance": []
  },
  "kernelspec": {
   "display_name": "Python 3 (ipykernel)",
   "language": "python",
   "name": "python3"
  },
  "language_info": {
   "codemirror_mode": {
    "name": "ipython",
    "version": 3
   },
   "file_extension": ".py",
   "mimetype": "text/x-python",
   "name": "python",
   "nbconvert_exporter": "python",
   "pygments_lexer": "ipython3",
   "version": "3.9.12"
  }
 },
 "nbformat": 4,
 "nbformat_minor": 1
}
