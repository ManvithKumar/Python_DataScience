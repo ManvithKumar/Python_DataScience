{
 "cells": [
  {
   "cell_type": "code",
   "execution_count": 1,
   "id": "5a6a187b",
   "metadata": {},
   "outputs": [],
   "source": [
    "#Regression\n",
    "\n",
    "#indepedent variables\n",
    "#depedent variables\n",
    "#outliers\n",
    "#Multicollinearity\n",
    "#Underfitting -inaacurate and Overfitting - not working \n",
    "\n",
    "\n"
   ]
  },
  {
   "cell_type": "markdown",
   "id": "1bf3780d",
   "metadata": {},
   "source": [
    "Types of regression\n",
    "\n",
    "linear\n",
    "logistic\n",
    "support vector\n",
    "polynomial\n",
    "decision tree\n",
    "random forest"
   ]
  },
  {
   "cell_type": "markdown",
   "id": "bf92c778",
   "metadata": {},
   "source": [
    "Simple Linear Regression - 1 dependet and 1 indepent\n",
    "Mulit Linear Regression - 1 dependet and more indepent"
   ]
  },
  {
   "cell_type": "markdown",
   "id": "8de0af17",
   "metadata": {},
   "source": [
    "Algorithm\n",
    "\n",
    "1.Read data from csv\n",
    "\n",
    "2.Data cleaning for regression\n",
    "\n",
    "3.Data visualization\n",
    "\n",
    "4.split into training and testing data\n",
    "\n",
    "5.building a linear model using the data\n",
    "\n",
    "6.Residual analysis\n",
    "\n",
    "7.Making predictions using final model and evalution\n",
    "\n",
    "8.Divide the test_x and test_y r2 score =1\n",
    "\n",
    "9)Calculate the distance r2_score between data points of training and testing \n",
    "\n",
    "1)x = df[\"Independent\"].values\n",
    "y = df[\"Dependent\"].values\n",
    "\n",
    "2)from sklearn.model_selection import train_test_split as tts\n",
    "x_train,x_test,y_train,y_test = tts(x,y,test_size=1/3,random_state =0)\n",
    "\n",
    "3)\n",
    "from sklearn.linear_model import LinearRegression\n",
    "lr_obj = LinearRegression()\n",
    "lr_obj.fit(x_train,y_train)\n",
    "\n",
    "4)\n",
    "y_predict = lr_obj.predict(x_test)\n",
    "x_predict = lr_obj.predict(x_train)\n",
    "\n",
    "5)Visualing training set\n",
    "plt.scatter(x_train,y_train,color=\"red\")\n",
    "plt.plot(x_train,y_predict,color=\"blue\")\n",
    "\n",
    "6)Visualing testing set\n",
    "plt.scatter(x_test,y_test,color=\"red\")\n",
    "plt.plot(x_train,x_predict,color=\"blue\")\n",
    "\n",
    "7)\n",
    "from sklearn.metrcis import r2_score\n",
    "\n",
    "r2_score(y_train,y_pred)\n"
   ]
  },
  {
   "cell_type": "code",
   "execution_count": 2,
   "id": "4d1e3824",
   "metadata": {},
   "outputs": [],
   "source": [
    "import numpy as np\n",
    "import pandas as pd\n",
    "import matplotlib.pyplot as pl"
   ]
  },
  {
   "cell_type": "code",
   "execution_count": 3,
   "id": "7f2adef1",
   "metadata": {},
   "outputs": [
    {
     "data": {
      "text/html": [
       "<div>\n",
       "<style scoped>\n",
       "    .dataframe tbody tr th:only-of-type {\n",
       "        vertical-align: middle;\n",
       "    }\n",
       "\n",
       "    .dataframe tbody tr th {\n",
       "        vertical-align: top;\n",
       "    }\n",
       "\n",
       "    .dataframe thead th {\n",
       "        text-align: right;\n",
       "    }\n",
       "</style>\n",
       "<table border=\"1\" class=\"dataframe\">\n",
       "  <thead>\n",
       "    <tr style=\"text-align: right;\">\n",
       "      <th></th>\n",
       "      <th>Hours</th>\n",
       "      <th>Scores</th>\n",
       "    </tr>\n",
       "  </thead>\n",
       "  <tbody>\n",
       "    <tr>\n",
       "      <th>0</th>\n",
       "      <td>2.5</td>\n",
       "      <td>21</td>\n",
       "    </tr>\n",
       "    <tr>\n",
       "      <th>1</th>\n",
       "      <td>5.1</td>\n",
       "      <td>47</td>\n",
       "    </tr>\n",
       "    <tr>\n",
       "      <th>2</th>\n",
       "      <td>3.2</td>\n",
       "      <td>27</td>\n",
       "    </tr>\n",
       "    <tr>\n",
       "      <th>3</th>\n",
       "      <td>8.5</td>\n",
       "      <td>75</td>\n",
       "    </tr>\n",
       "    <tr>\n",
       "      <th>4</th>\n",
       "      <td>3.5</td>\n",
       "      <td>30</td>\n",
       "    </tr>\n",
       "  </tbody>\n",
       "</table>\n",
       "</div>"
      ],
      "text/plain": [
       "   Hours  Scores\n",
       "0    2.5      21\n",
       "1    5.1      47\n",
       "2    3.2      27\n",
       "3    8.5      75\n",
       "4    3.5      30"
      ]
     },
     "execution_count": 3,
     "metadata": {},
     "output_type": "execute_result"
    }
   ],
   "source": [
    "df = pd.read_csv('C:\\\\Users\\\\Lenovo\\\\Downloads\\\\student_scores.csv')\n",
    "df.head()"
   ]
  },
  {
   "cell_type": "code",
   "execution_count": 4,
   "id": "0a159bc7",
   "metadata": {},
   "outputs": [],
   "source": [
    "x = pd.DataFrame(df['Hours']).values\n",
    "y = pd.DataFrame(df['Scores']).values"
   ]
  },
  {
   "cell_type": "code",
   "execution_count": 5,
   "id": "4bdfdf91",
   "metadata": {},
   "outputs": [
    {
     "name": "stdout",
     "output_type": "stream",
     "text": [
      "[[2.5]\n",
      " [5.1]\n",
      " [3.2]\n",
      " [8.5]\n",
      " [3.5]\n",
      " [1.5]\n",
      " [9.2]\n",
      " [5.5]\n",
      " [8.3]\n",
      " [2.7]\n",
      " [7.7]\n",
      " [5.9]\n",
      " [4.5]\n",
      " [3.3]\n",
      " [1.1]\n",
      " [8.9]\n",
      " [2.5]\n",
      " [1.9]\n",
      " [6.1]\n",
      " [7.4]\n",
      " [2.7]\n",
      " [4.8]\n",
      " [3.8]\n",
      " [6.9]\n",
      " [7.8]] [[21]\n",
      " [47]\n",
      " [27]\n",
      " [75]\n",
      " [30]\n",
      " [20]\n",
      " [88]\n",
      " [60]\n",
      " [81]\n",
      " [25]\n",
      " [85]\n",
      " [62]\n",
      " [41]\n",
      " [42]\n",
      " [17]\n",
      " [95]\n",
      " [30]\n",
      " [24]\n",
      " [67]\n",
      " [69]\n",
      " [30]\n",
      " [54]\n",
      " [35]\n",
      " [76]\n",
      " [86]]\n"
     ]
    }
   ],
   "source": [
    "print(x,y)"
   ]
  },
  {
   "cell_type": "code",
   "execution_count": 6,
   "id": "293a339a",
   "metadata": {},
   "outputs": [
    {
     "name": "stdout",
     "output_type": "stream",
     "text": [
      "[[1.1]\n",
      " [5.1]\n",
      " [7.7]\n",
      " [3.3]\n",
      " [8.3]\n",
      " [9.2]\n",
      " [6.1]\n",
      " [3.5]\n",
      " [2.7]\n",
      " [5.5]\n",
      " [2.7]\n",
      " [8.5]\n",
      " [2.5]\n",
      " [4.8]\n",
      " [8.9]\n",
      " [4.5]]\n",
      "[[1.5]\n",
      " [3.2]\n",
      " [7.4]\n",
      " [2.5]\n",
      " [5.9]\n",
      " [3.8]\n",
      " [1.9]\n",
      " [7.8]\n",
      " [6.9]]\n",
      "[[17]\n",
      " [47]\n",
      " [85]\n",
      " [42]\n",
      " [81]\n",
      " [88]\n",
      " [67]\n",
      " [30]\n",
      " [25]\n",
      " [60]\n",
      " [30]\n",
      " [75]\n",
      " [21]\n",
      " [54]\n",
      " [95]\n",
      " [41]]\n",
      "[[20]\n",
      " [27]\n",
      " [69]\n",
      " [30]\n",
      " [62]\n",
      " [35]\n",
      " [24]\n",
      " [86]\n",
      " [76]]\n"
     ]
    }
   ],
   "source": [
    "from sklearn.model_selection import train_test_split as tts\n",
    "\n",
    "x_train,x_test,y_train,y_test = tts(x,y,test_size=1/3,random_state =0)\n",
    "print(x_train)\n",
    "print(x_test)\n",
    "print(y_train)\n",
    "print(y_test)"
   ]
  },
  {
   "cell_type": "code",
   "execution_count": 7,
   "id": "3db83623",
   "metadata": {},
   "outputs": [
    {
     "data": {
      "text/plain": [
       "LinearRegression()"
      ]
     },
     "execution_count": 7,
     "metadata": {},
     "output_type": "execute_result"
    }
   ],
   "source": [
    "from sklearn.linear_model import LinearRegression\n",
    "lr_obj = LinearRegression()\n",
    "lr_obj.fit(x_train,y_train)"
   ]
  },
  {
   "cell_type": "code",
   "execution_count": 8,
   "id": "4283b7d8",
   "metadata": {},
   "outputs": [
    {
     "name": "stdout",
     "output_type": "stream",
     "text": [
      "[[17.04289179]\n",
      " [33.51695377]\n",
      " [74.21757747]\n",
      " [26.73351648]\n",
      " [59.68164043]\n",
      " [39.33132858]\n",
      " [20.91914167]\n",
      " [78.09382734]\n",
      " [69.37226512]]\n"
     ]
    }
   ],
   "source": [
    "y_predict = lr_obj.predict(x_test)\n",
    "x_predict = lr_obj.predict(x_train)\n",
    "print(y_predict)"
   ]
  },
  {
   "cell_type": "code",
   "execution_count": 9,
   "id": "634b7aaa",
   "metadata": {},
   "outputs": [
    {
     "data": {
      "image/png": "[encoded data removed]",
      "text/plain": [
       "<Figure size 432x288 with 1 Axes>"
      ]
     },
     "metadata": {
      "needs_background": "light"
     },
     "output_type": "display_data"
    }
   ],
   "source": [
    "pl.scatter(x_train,y_train,color=\"red\")\n",
    "pl.plot(x_train,x_predict,color=\"blue\")\n",
    "pl.show()"
   ]
  },
  {
   "cell_type": "code",
   "execution_count": 10,
   "id": "cbc3f8bc",
   "metadata": {},
   "outputs": [
    {
     "data": {
      "image/png": "[encoded data removed]",
      "text/plain": [
       "<Figure size 432x288 with 1 Axes>"
      ]
     },
     "metadata": {
      "needs_background": "light"
     },
     "output_type": "display_data"
    }
   ],
   "source": [
    "pl.scatter(x_test,y_test,color=\"red\")\n",
    "pl.plot(x_train,x_predict,color=\"blue\")\n",
    "pl.show()"
   ]
  },
  {
   "cell_type": "code",
   "execution_count": 11,
   "id": "bbbaaf88",
   "metadata": {},
   "outputs": [
    {
     "data": {
      "text/plain": [
       "0.955570080138813"
      ]
     },
     "execution_count": 11,
     "metadata": {},
     "output_type": "execute_result"
    }
   ],
   "source": [
    "from sklearn.metrics import r2_score\n",
    "r2_score(y_test,y_predict)"
   ]
  },
  {
   "cell_type": "code",
   "execution_count": 12,
   "id": "e6680717",
   "metadata": {},
   "outputs": [],
   "source": [
    "\n",
    "import numpy as np\n",
    "import pandas as pd\n",
    "import matplotlib.pyplot as pl\n",
    "\n",
    "df = pd.read_csv('C:\\\\Users\\\\Lenovo\\\\Downloads\\\\Linear Regression - Sheet1.csv')\n",
    "df.head(20)\n",
    "df.drop_duplicates(inplace=True)"
   ]
  },
  {
   "cell_type": "code",
   "execution_count": 13,
   "id": "536c3b5f",
   "metadata": {},
   "outputs": [],
   "source": [
    "x = pd.DataFrame(df['X']).values\n",
    "y = pd.DataFrame(df['Y']).values\n",
    "\n",
    "from sklearn.model_selection import train_test_split as tts\n",
    "\n",
    "x_train,x_test,y_train,y_test = tts(x,y,test_size=1/3,random_state =0)\n",
    "\n",
    "\n",
    "from sklearn.linear_model import LinearRegression\n",
    "lr_obj = LinearRegression()\n",
    "lr_obj.fit(x_train,y_train)\n",
    "\n",
    "y_predict = lr_obj.predict(x_test)\n",
    "x_predict = lr_obj.predict(x_train)\n",
    "\n"
   ]
  },
  {
   "cell_type": "code",
   "execution_count": 14,
   "id": "a75cd951",
   "metadata": {},
   "outputs": [
    {
     "data": {
      "image/png": "[encoded data removed]",
      "text/plain": [
       "<Figure size 432x288 with 1 Axes>"
      ]
     },
     "metadata": {
      "needs_background": "light"
     },
     "output_type": "display_data"
    }
   ],
   "source": [
    "pl.scatter(x_test,y_test,color=\"green\")\n",
    "#pl.scatter(x_train,y_train,color=\"red\")\n",
    "pl.plot(x_train,x_predict,color=\"blue\")\n",
    "pl.show()"
   ]
  },
  {
   "cell_type": "code",
   "execution_count": 15,
   "id": "ed7a5402",
   "metadata": {},
   "outputs": [
    {
     "data": {
      "text/plain": [
       "0.8795244207836784"
      ]
     },
     "execution_count": 15,
     "metadata": {},
     "output_type": "execute_result"
    }
   ],
   "source": [
    "from sklearn.metrics import r2_score\n",
    "r2_score(y_test,y_predict)"
   ]
  },
  {
   "cell_type": "code",
   "execution_count": 16,
   "id": "ea29352d",
   "metadata": {},
   "outputs": [
    {
     "data": {
      "text/html": [
       "<div>\n",
       "<style scoped>\n",
       "    .dataframe tbody tr th:only-of-type {\n",
       "        vertical-align: middle;\n",
       "    }\n",
       "\n",
       "    .dataframe tbody tr th {\n",
       "        vertical-align: top;\n",
       "    }\n",
       "\n",
       "    .dataframe thead th {\n",
       "        text-align: right;\n",
       "    }\n",
       "</style>\n",
       "<table border=\"1\" class=\"dataframe\">\n",
       "  <thead>\n",
       "    <tr style=\"text-align: right;\">\n",
       "      <th></th>\n",
       "      <th>YearsExperience</th>\n",
       "      <th>Salary</th>\n",
       "    </tr>\n",
       "  </thead>\n",
       "  <tbody>\n",
       "    <tr>\n",
       "      <th>0</th>\n",
       "      <td>1.1</td>\n",
       "      <td>39343.0</td>\n",
       "    </tr>\n",
       "    <tr>\n",
       "      <th>1</th>\n",
       "      <td>1.3</td>\n",
       "      <td>46205.0</td>\n",
       "    </tr>\n",
       "    <tr>\n",
       "      <th>2</th>\n",
       "      <td>1.5</td>\n",
       "      <td>37731.0</td>\n",
       "    </tr>\n",
       "    <tr>\n",
       "      <th>3</th>\n",
       "      <td>2.0</td>\n",
       "      <td>43525.0</td>\n",
       "    </tr>\n",
       "    <tr>\n",
       "      <th>4</th>\n",
       "      <td>2.2</td>\n",
       "      <td>39891.0</td>\n",
       "    </tr>\n",
       "  </tbody>\n",
       "</table>\n",
       "</div>"
      ],
      "text/plain": [
       "   YearsExperience   Salary\n",
       "0              1.1  39343.0\n",
       "1              1.3  46205.0\n",
       "2              1.5  37731.0\n",
       "3              2.0  43525.0\n",
       "4              2.2  39891.0"
      ]
     },
     "execution_count": 16,
     "metadata": {},
     "output_type": "execute_result"
    }
   ],
   "source": [
    "#3\n",
    "import numpy as np\n",
    "import pandas as pd\n",
    "import matplotlib.pyplot as pl\n",
    "\n",
    "df = pd.read_csv('C:\\\\Users\\\\Lenovo\\\\Downloads\\\\LRpractice2.csv')\n",
    "df.head()"
   ]
  },
  {
   "cell_type": "code",
   "execution_count": 17,
   "id": "7c8a71cf",
   "metadata": {},
   "outputs": [
    {
     "data": {
      "image/png": "[encoded data removed]",
      "text/plain": [
       "<Figure size 432x288 with 1 Axes>"
      ]
     },
     "metadata": {
      "needs_background": "light"
     },
     "output_type": "display_data"
    }
   ],
   "source": [
    "x = pd.DataFrame(df['YearsExperience']).values\n",
    "y = pd.DataFrame(df['Salary']).values\n",
    "\n",
    "from sklearn.model_selection import train_test_split as tts\n",
    "\n",
    "x_train,x_test,y_train,y_test = tts(x,y,test_size=1/3,random_state =0)\n",
    "\n",
    "\n",
    "from sklearn.linear_model import LinearRegression\n",
    "lr_obj = LinearRegression()\n",
    "lr_obj.fit(x_train,y_train)\n",
    "\n",
    "y_predict = lr_obj.predict(x_test)\n",
    "x_predict = lr_obj.predict(x_train)\n",
    "\n",
    "pl.scatter(x_train,y_train,color=\"green\")\n",
    "#pl.scatter(x_train,y_train,color=\"red\")\n",
    "pl.plot(x_train,x_predict,color=\"blue\")\n",
    "pl.show()"
   ]
  },
  {
   "cell_type": "code",
   "execution_count": 18,
   "id": "273d79ac",
   "metadata": {},
   "outputs": [
    {
     "data": {
      "image/png": "[encoded data removed]",
      "text/plain": [
       "<Figure size 432x288 with 1 Axes>"
      ]
     },
     "metadata": {
      "needs_background": "light"
     },
     "output_type": "display_data"
    }
   ],
   "source": [
    "pl.scatter(x_test,y_test,color=\"red\")\n",
    "pl.plot(x_train,x_predict,color=\"blue\")\n",
    "pl.grid()\n",
    "pl.show()"
   ]
  },
  {
   "cell_type": "code",
   "execution_count": 19,
   "id": "a2ae9ba7",
   "metadata": {},
   "outputs": [
    {
     "data": {
      "image/png": "[encoded data removed]",
      "text/plain": [
       "<Figure size 432x288 with 1 Axes>"
      ]
     },
     "metadata": {
      "needs_background": "light"
     },
     "output_type": "display_data"
    }
   ],
   "source": [
    "pl.scatter(x_test,y_test,color=\"green\")\n",
    "pl.scatter(x_train,y_train,color=\"red\")\n",
    "pl.plot(x_train,x_predict,color=\"blue\")\n",
    "pl.grid()\n",
    "pl.show()"
   ]
  },
  {
   "cell_type": "code",
   "execution_count": 61,
   "id": "50188e37",
   "metadata": {},
   "outputs": [
    {
     "data": {
      "text/html": [
       "<div>\n",
       "<style scoped>\n",
       "    .dataframe tbody tr th:only-of-type {\n",
       "        vertical-align: middle;\n",
       "    }\n",
       "\n",
       "    .dataframe tbody tr th {\n",
       "        vertical-align: top;\n",
       "    }\n",
       "\n",
       "    .dataframe thead th {\n",
       "        text-align: right;\n",
       "    }\n",
       "</style>\n",
       "<table border=\"1\" class=\"dataframe\">\n",
       "  <thead>\n",
       "    <tr style=\"text-align: right;\">\n",
       "      <th></th>\n",
       "      <th>R&amp;D Spend</th>\n",
       "      <th>Administration</th>\n",
       "      <th>Marketing Spend</th>\n",
       "      <th>State</th>\n",
       "      <th>Profit</th>\n",
       "    </tr>\n",
       "  </thead>\n",
       "  <tbody>\n",
       "    <tr>\n",
       "      <th>0</th>\n",
       "      <td>165349.20</td>\n",
       "      <td>136897.80</td>\n",
       "      <td>471784.10</td>\n",
       "      <td>New York</td>\n",
       "      <td>192261.83</td>\n",
       "    </tr>\n",
       "    <tr>\n",
       "      <th>1</th>\n",
       "      <td>162597.70</td>\n",
       "      <td>151377.59</td>\n",
       "      <td>443898.53</td>\n",
       "      <td>California</td>\n",
       "      <td>191792.06</td>\n",
       "    </tr>\n",
       "    <tr>\n",
       "      <th>2</th>\n",
       "      <td>153441.51</td>\n",
       "      <td>101145.55</td>\n",
       "      <td>407934.54</td>\n",
       "      <td>Florida</td>\n",
       "      <td>191050.39</td>\n",
       "    </tr>\n",
       "    <tr>\n",
       "      <th>3</th>\n",
       "      <td>144372.41</td>\n",
       "      <td>118671.85</td>\n",
       "      <td>383199.62</td>\n",
       "      <td>New York</td>\n",
       "      <td>182901.99</td>\n",
       "    </tr>\n",
       "    <tr>\n",
       "      <th>4</th>\n",
       "      <td>142107.34</td>\n",
       "      <td>91391.77</td>\n",
       "      <td>366168.42</td>\n",
       "      <td>Florida</td>\n",
       "      <td>166187.94</td>\n",
       "    </tr>\n",
       "  </tbody>\n",
       "</table>\n",
       "</div>"
      ],
      "text/plain": [
       "   R&D Spend  Administration  Marketing Spend       State     Profit\n",
       "0  165349.20       136897.80        471784.10    New York  192261.83\n",
       "1  162597.70       151377.59        443898.53  California  191792.06\n",
       "2  153441.51       101145.55        407934.54     Florida  191050.39\n",
       "3  144372.41       118671.85        383199.62    New York  182901.99\n",
       "4  142107.34        91391.77        366168.42     Florida  166187.94"
      ]
     },
     "execution_count": 61,
     "metadata": {},
     "output_type": "execute_result"
    }
   ],
   "source": [
    "import pandas as pd\n",
    "import numpy as np\n",
    "import matplotlib.pyplot as pl\n",
    "\n",
    "df = pd.read_csv('C:\\\\Users\\\\Lenovo\\\\Downloads\\\\50_Startups.csv')\n",
    "df.head()"
   ]
  },
  {
   "cell_type": "code",
   "execution_count": 31,
   "id": "daca8f41",
   "metadata": {},
   "outputs": [
    {
     "name": "stdout",
     "output_type": "stream",
     "text": [
      "['R&D Spend', 'Administration', 'Marketing Spend', 'Profit']\n",
      "['R&D Spend', 'Administration', 'Marketing Spend']\n"
     ]
    }
   ],
   "source": [
    "df1 = df.drop('State',axis=1)\n",
    "dependent_value = \"Profit\"\n",
    "independent_values = df1.columns.tolist()\n",
    "print(independent_values)\n",
    "\n",
    "independent_values.remove(dependent_value)\n",
    "print(independent_values)"
   ]
  },
  {
   "cell_type": "code",
   "execution_count": 32,
   "id": "f6bdd2ae",
   "metadata": {},
   "outputs": [
    {
     "name": "stdout",
     "output_type": "stream",
     "text": [
      "[[165349.2  136897.8  471784.1 ]\n",
      " [162597.7  151377.59 443898.53]\n",
      " [153441.51 101145.55 407934.54]\n",
      " [144372.41 118671.85 383199.62]\n",
      " [142107.34  91391.77 366168.42]\n",
      " [131876.9   99814.71 362861.36]\n",
      " [134615.46 147198.87 127716.82]\n",
      " [130298.13 145530.06 323876.68]\n",
      " [120542.52 148718.95 311613.29]\n",
      " [123334.88 108679.17 304981.62]\n",
      " [101913.08 110594.11 229160.95]\n",
      " [100671.96  91790.61 249744.55]\n",
      " [ 93863.75 127320.38 249839.44]\n",
      " [ 91992.39 135495.07 252664.93]\n",
      " [119943.24 156547.42 256512.92]\n",
      " [114523.61 122616.84 261776.23]\n",
      " [ 78013.11 121597.55 264346.06]\n",
      " [ 94657.16 145077.58 282574.31]\n",
      " [ 91749.16 114175.79 294919.57]\n",
      " [ 86419.7  153514.11      0.  ]\n",
      " [ 76253.86 113867.3  298664.47]\n",
      " [ 78389.47 153773.43 299737.29]\n",
      " [ 73994.56 122782.75 303319.26]\n",
      " [ 67532.53 105751.03 304768.73]\n",
      " [ 77044.01  99281.34 140574.81]\n",
      " [ 64664.71 139553.16 137962.62]\n",
      " [ 75328.87 144135.98 134050.07]\n",
      " [ 72107.6  127864.55 353183.81]\n",
      " [ 66051.52 182645.56 118148.2 ]\n",
      " [ 65605.48 153032.06 107138.38]\n",
      " [ 61994.48 115641.28  91131.24]\n",
      " [ 61136.38 152701.92  88218.23]\n",
      " [ 63408.86 129219.61  46085.25]\n",
      " [ 55493.95 103057.49 214634.81]\n",
      " [ 46426.07 157693.92 210797.67]\n",
      " [ 46014.02  85047.44 205517.64]\n",
      " [ 28663.76 127056.21 201126.82]\n",
      " [ 44069.95  51283.14 197029.42]\n",
      " [ 20229.59  65947.93 185265.1 ]\n",
      " [ 38558.51  82982.09 174999.3 ]\n",
      " [ 28754.33 118546.05 172795.67]\n",
      " [ 27892.92  84710.77 164470.71]\n",
      " [ 23640.93  96189.63 148001.11]\n",
      " [ 15505.73 127382.3   35534.17]\n",
      " [ 22177.74 154806.14  28334.72]\n",
      " [  1000.23 124153.04   1903.93]\n",
      " [  1315.46 115816.21 297114.46]\n",
      " [     0.   135426.92      0.  ]\n",
      " [   542.05  51743.15      0.  ]\n",
      " [     0.   116983.8   45173.06]]\n"
     ]
    }
   ],
   "source": [
    "x_ind = df[independent_values].values\n",
    "y_dep = df[dependent_value].values\n",
    "print(x_ind)"
   ]
  },
  {
   "cell_type": "code",
   "execution_count": 76,
   "id": "266693d2",
   "metadata": {},
   "outputs": [
    {
     "data": {
      "image/png": "[encoded data removed]",
      "text/plain": [
       "<Figure size 432x288 with 1 Axes>"
      ]
     },
     "metadata": {
      "needs_background": "light"
     },
     "output_type": "display_data"
    }
   ],
   "source": [
    "from sklearn.model_selection import train_test_split as tts\n",
    "x_train,x_test,y_train,y_test = tts(x_ind,y_dep,test_size = 1/3,random_state = 0)\n",
    "\n",
    "from sklearn.preprocessing import MinMaxScaler\n",
    "scaler = MinMaxScaler()\n",
    "\n",
    "x_train = scaler.fit_transform(x_train)\n",
    "x_test = scaler.transform(x_test)\n",
    "\n",
    "from sklearn.linear_model import LinearRegression\n",
    "\n",
    "model2 = LinearRegression()\n",
    "model2.fit(x_train,y_train)\n",
    "\n",
    "y_predict = model2.predict(x_test)\n",
    "x_predict = model2.predict(x_train)\n",
    "\n",
    "pl.scatter(y_test,y_predict,color='green')\n",
    "#pl.plot(x_train,x_predict,color='red')\n",
    "\n",
    "pl.show()\n"
   ]
  },
  {
   "cell_type": "code",
   "execution_count": 36,
   "id": "1d808e1e",
   "metadata": {},
   "outputs": [
    {
     "name": "stdout",
     "output_type": "stream",
     "text": [
      "0.9118056192504045\n"
     ]
    }
   ],
   "source": [
    "from sklearn.metrics import r2_score\n",
    "print(r2_score(y_test,y_predict))"
   ]
  },
  {
   "cell_type": "code",
   "execution_count": 37,
   "id": "04240d40",
   "metadata": {},
   "outputs": [
    {
     "name": "stdout",
     "output_type": "stream",
     "text": [
      "9147.631011503236\n"
     ]
    }
   ],
   "source": [
    "from sklearn.metrics import mean_squared_error as mse\n",
    "import math\n",
    "msr = math.sqrt(mse(y_test,y_predict))\n",
    "print(msr)"
   ]
  },
  {
   "cell_type": "markdown",
   "id": "042316fd",
   "metadata": {},
   "source": [
    "Polynomial Regression Algorithm\n",
    "\n",
    "Data Preprocessing \n",
    "Build a linear regression model and fit it the dataset\n",
    "Build a ploynomial regression model and fit it to the dataset\n",
    "\n",
    "from sklearn.preprocessing import PolynomialFeatures\n",
    "ply_regs = PolynomialFeatures()\n",
    "x_poly = poly_regs.fit_transform(x)\n",
    "lin_reg2 = LinearRegression()\n",
    "lin_reg2.fit(x_poly,y)"
   ]
  }
 ],
 "metadata": {
  "kernelspec": {
   "display_name": "Python 3 (ipykernel)",
   "language": "python",
   "name": "python3"
  },
  "language_info": {
   "codemirror_mode": {
    "name": "ipython",
    "version": 3
   },
   "file_extension": ".py",
   "mimetype": "text/x-python",
   "name": "python",
   "nbconvert_exporter": "python",
   "pygments_lexer": "ipython3",
   "version": "3.9.12"
  }
 },
 "nbformat": 4,
 "nbformat_minor": 5
}
